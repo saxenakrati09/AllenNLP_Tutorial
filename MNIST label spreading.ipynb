{
 "cells": [
  {
   "cell_type": "code",
   "execution_count": 1,
   "metadata": {},
   "outputs": [
    {
     "name": "stdout",
     "output_type": "stream",
     "text": [
      "Automatically created module for IPython interactive environment\n"
     ]
    }
   ],
   "source": [
    "print(__doc__)"
   ]
  },
  {
   "cell_type": "code",
   "execution_count": 2,
   "metadata": {},
   "outputs": [],
   "source": [
    "import numpy as np\n",
    "import matplotlib.pyplot as plt\n",
    "\n",
    "from scipy import stats\n",
    "\n",
    "from sklearn import datasets\n",
    "from sklearn.semi_supervised import label_propagation\n",
    "\n",
    "from sklearn.metrics import confusion_matrix, classification_report\n"
   ]
  },
  {
   "cell_type": "code",
   "execution_count": 3,
   "metadata": {},
   "outputs": [],
   "source": [
    "digits = datasets.load_digits()\n",
    "rng = np.random.RandomState(0)\n",
    "indices = np.arange(len(digits.data))\n",
    "rng.shuffle(indices)"
   ]
  },
  {
   "cell_type": "code",
   "execution_count": 5,
   "metadata": {},
   "outputs": [
    {
     "data": {
      "text/plain": [
       "array([1081, 1707,  927, ..., 1653,  559,  684])"
      ]
     },
     "execution_count": 5,
     "metadata": {},
     "output_type": "execute_result"
    }
   ],
   "source": [
    "indices"
   ]
  },
  {
   "cell_type": "code",
   "execution_count": 6,
   "metadata": {},
   "outputs": [],
   "source": [
    "X = digits.data[indices[:330]]\n",
    "y = digits.target[indices[:330]]\n",
    "images = digits.images[indices[:330]]\n"
   ]
  },
  {
   "cell_type": "code",
   "execution_count": 11,
   "metadata": {},
   "outputs": [],
   "source": [
    "n_total_samples = len(y)\n",
    "n_labeled_points = 30"
   ]
  },
  {
   "cell_type": "code",
   "execution_count": 12,
   "metadata": {},
   "outputs": [],
   "source": [
    "indices = np.arange(n_total_samples)"
   ]
  },
  {
   "cell_type": "code",
   "execution_count": 13,
   "metadata": {},
   "outputs": [
    {
     "data": {
      "text/plain": [
       "array([  0,   1,   2,   3,   4,   5,   6,   7,   8,   9,  10,  11,  12,\n",
       "        13,  14,  15,  16,  17,  18,  19,  20,  21,  22,  23,  24,  25,\n",
       "        26,  27,  28,  29,  30,  31,  32,  33,  34,  35,  36,  37,  38,\n",
       "        39,  40,  41,  42,  43,  44,  45,  46,  47,  48,  49,  50,  51,\n",
       "        52,  53,  54,  55,  56,  57,  58,  59,  60,  61,  62,  63,  64,\n",
       "        65,  66,  67,  68,  69,  70,  71,  72,  73,  74,  75,  76,  77,\n",
       "        78,  79,  80,  81,  82,  83,  84,  85,  86,  87,  88,  89,  90,\n",
       "        91,  92,  93,  94,  95,  96,  97,  98,  99, 100, 101, 102, 103,\n",
       "       104, 105, 106, 107, 108, 109, 110, 111, 112, 113, 114, 115, 116,\n",
       "       117, 118, 119, 120, 121, 122, 123, 124, 125, 126, 127, 128, 129,\n",
       "       130, 131, 132, 133, 134, 135, 136, 137, 138, 139, 140, 141, 142,\n",
       "       143, 144, 145, 146, 147, 148, 149, 150, 151, 152, 153, 154, 155,\n",
       "       156, 157, 158, 159, 160, 161, 162, 163, 164, 165, 166, 167, 168,\n",
       "       169, 170, 171, 172, 173, 174, 175, 176, 177, 178, 179, 180, 181,\n",
       "       182, 183, 184, 185, 186, 187, 188, 189, 190, 191, 192, 193, 194,\n",
       "       195, 196, 197, 198, 199, 200, 201, 202, 203, 204, 205, 206, 207,\n",
       "       208, 209, 210, 211, 212, 213, 214, 215, 216, 217, 218, 219, 220,\n",
       "       221, 222, 223, 224, 225, 226, 227, 228, 229, 230, 231, 232, 233,\n",
       "       234, 235, 236, 237, 238, 239, 240, 241, 242, 243, 244, 245, 246,\n",
       "       247, 248, 249, 250, 251, 252, 253, 254, 255, 256, 257, 258, 259,\n",
       "       260, 261, 262, 263, 264, 265, 266, 267, 268, 269, 270, 271, 272,\n",
       "       273, 274, 275, 276, 277, 278, 279, 280, 281, 282, 283, 284, 285,\n",
       "       286, 287, 288, 289, 290, 291, 292, 293, 294, 295, 296, 297, 298,\n",
       "       299, 300, 301, 302, 303, 304, 305, 306, 307, 308, 309, 310, 311,\n",
       "       312, 313, 314, 315, 316, 317, 318, 319, 320, 321, 322, 323, 324,\n",
       "       325, 326, 327, 328, 329])"
      ]
     },
     "execution_count": 13,
     "metadata": {},
     "output_type": "execute_result"
    }
   ],
   "source": [
    "indices"
   ]
  },
  {
   "cell_type": "code",
   "execution_count": 14,
   "metadata": {},
   "outputs": [],
   "source": [
    "unlabeled_set = indices[n_labeled_points:]"
   ]
  },
  {
   "cell_type": "code",
   "execution_count": 15,
   "metadata": {},
   "outputs": [
    {
     "data": {
      "text/plain": [
       "array([ 30,  31,  32,  33,  34,  35,  36,  37,  38,  39,  40,  41,  42,\n",
       "        43,  44,  45,  46,  47,  48,  49,  50,  51,  52,  53,  54,  55,\n",
       "        56,  57,  58,  59,  60,  61,  62,  63,  64,  65,  66,  67,  68,\n",
       "        69,  70,  71,  72,  73,  74,  75,  76,  77,  78,  79,  80,  81,\n",
       "        82,  83,  84,  85,  86,  87,  88,  89,  90,  91,  92,  93,  94,\n",
       "        95,  96,  97,  98,  99, 100, 101, 102, 103, 104, 105, 106, 107,\n",
       "       108, 109, 110, 111, 112, 113, 114, 115, 116, 117, 118, 119, 120,\n",
       "       121, 122, 123, 124, 125, 126, 127, 128, 129, 130, 131, 132, 133,\n",
       "       134, 135, 136, 137, 138, 139, 140, 141, 142, 143, 144, 145, 146,\n",
       "       147, 148, 149, 150, 151, 152, 153, 154, 155, 156, 157, 158, 159,\n",
       "       160, 161, 162, 163, 164, 165, 166, 167, 168, 169, 170, 171, 172,\n",
       "       173, 174, 175, 176, 177, 178, 179, 180, 181, 182, 183, 184, 185,\n",
       "       186, 187, 188, 189, 190, 191, 192, 193, 194, 195, 196, 197, 198,\n",
       "       199, 200, 201, 202, 203, 204, 205, 206, 207, 208, 209, 210, 211,\n",
       "       212, 213, 214, 215, 216, 217, 218, 219, 220, 221, 222, 223, 224,\n",
       "       225, 226, 227, 228, 229, 230, 231, 232, 233, 234, 235, 236, 237,\n",
       "       238, 239, 240, 241, 242, 243, 244, 245, 246, 247, 248, 249, 250,\n",
       "       251, 252, 253, 254, 255, 256, 257, 258, 259, 260, 261, 262, 263,\n",
       "       264, 265, 266, 267, 268, 269, 270, 271, 272, 273, 274, 275, 276,\n",
       "       277, 278, 279, 280, 281, 282, 283, 284, 285, 286, 287, 288, 289,\n",
       "       290, 291, 292, 293, 294, 295, 296, 297, 298, 299, 300, 301, 302,\n",
       "       303, 304, 305, 306, 307, 308, 309, 310, 311, 312, 313, 314, 315,\n",
       "       316, 317, 318, 319, 320, 321, 322, 323, 324, 325, 326, 327, 328,\n",
       "       329])"
      ]
     },
     "execution_count": 15,
     "metadata": {},
     "output_type": "execute_result"
    }
   ],
   "source": [
    "unlabeled_set"
   ]
  },
  {
   "cell_type": "code",
   "execution_count": 16,
   "metadata": {},
   "outputs": [],
   "source": [
    "# #############################################################################\n",
    "# Shuffle everything around\n",
    "y_train = np.copy(y)\n",
    "y_train[unlabeled_set] = -1\n"
   ]
  },
  {
   "cell_type": "code",
   "execution_count": 17,
   "metadata": {},
   "outputs": [
    {
     "data": {
      "text/plain": [
       "array([ 2,  8,  2,  6,  6,  7,  1,  9,  8,  5,  2,  8,  6,  6,  6,  6,  1,\n",
       "        0,  5,  8,  8,  7,  8,  4,  7,  5,  4,  9,  2,  9, -1, -1, -1, -1,\n",
       "       -1, -1, -1, -1, -1, -1, -1, -1, -1, -1, -1, -1, -1, -1, -1, -1, -1,\n",
       "       -1, -1, -1, -1, -1, -1, -1, -1, -1, -1, -1, -1, -1, -1, -1, -1, -1,\n",
       "       -1, -1, -1, -1, -1, -1, -1, -1, -1, -1, -1, -1, -1, -1, -1, -1, -1,\n",
       "       -1, -1, -1, -1, -1, -1, -1, -1, -1, -1, -1, -1, -1, -1, -1, -1, -1,\n",
       "       -1, -1, -1, -1, -1, -1, -1, -1, -1, -1, -1, -1, -1, -1, -1, -1, -1,\n",
       "       -1, -1, -1, -1, -1, -1, -1, -1, -1, -1, -1, -1, -1, -1, -1, -1, -1,\n",
       "       -1, -1, -1, -1, -1, -1, -1, -1, -1, -1, -1, -1, -1, -1, -1, -1, -1,\n",
       "       -1, -1, -1, -1, -1, -1, -1, -1, -1, -1, -1, -1, -1, -1, -1, -1, -1,\n",
       "       -1, -1, -1, -1, -1, -1, -1, -1, -1, -1, -1, -1, -1, -1, -1, -1, -1,\n",
       "       -1, -1, -1, -1, -1, -1, -1, -1, -1, -1, -1, -1, -1, -1, -1, -1, -1,\n",
       "       -1, -1, -1, -1, -1, -1, -1, -1, -1, -1, -1, -1, -1, -1, -1, -1, -1,\n",
       "       -1, -1, -1, -1, -1, -1, -1, -1, -1, -1, -1, -1, -1, -1, -1, -1, -1,\n",
       "       -1, -1, -1, -1, -1, -1, -1, -1, -1, -1, -1, -1, -1, -1, -1, -1, -1,\n",
       "       -1, -1, -1, -1, -1, -1, -1, -1, -1, -1, -1, -1, -1, -1, -1, -1, -1,\n",
       "       -1, -1, -1, -1, -1, -1, -1, -1, -1, -1, -1, -1, -1, -1, -1, -1, -1,\n",
       "       -1, -1, -1, -1, -1, -1, -1, -1, -1, -1, -1, -1, -1, -1, -1, -1, -1,\n",
       "       -1, -1, -1, -1, -1, -1, -1, -1, -1, -1, -1, -1, -1, -1, -1, -1, -1,\n",
       "       -1, -1, -1, -1, -1, -1, -1])"
      ]
     },
     "execution_count": 17,
     "metadata": {},
     "output_type": "execute_result"
    }
   ],
   "source": [
    "y_train"
   ]
  },
  {
   "cell_type": "code",
   "execution_count": 18,
   "metadata": {},
   "outputs": [
    {
     "name": "stderr",
     "output_type": "stream",
     "text": [
      "c:\\users\\1015203\\hackathon_sarvanaam\\allennlp\\allennlp\\lib\\site-packages\\sklearn\\semi_supervised\\label_propagation.py:292: ConvergenceWarning: max_iter=5 was reached without convergence.\n",
      "  category=ConvergenceWarning\n"
     ]
    }
   ],
   "source": [
    "# #############################################################################\n",
    "# Learn with LabelSpreading\n",
    "lp_model = label_propagation.LabelSpreading(gamma=0.25, max_iter=5)\n",
    "lp_model.fit(X, y_train)\n",
    "predicted_labels = lp_model.transduction_[unlabeled_set]\n",
    "true_labels = y[unlabeled_set]"
   ]
  },
  {
   "cell_type": "code",
   "execution_count": 22,
   "metadata": {},
   "outputs": [
    {
     "data": {
      "text/plain": [
       "array([4, 7, 6, 8, 9, 4, 8, 8, 0, 1, 8, 6, 7, 7, 1, 0, 7, 6, 2, 1, 9, 6,\n",
       "       7, 9, 0, 0, 9, 8, 6, 9, 0, 2, 8, 4, 2, 9, 7, 6, 9, 8, 8, 9, 5, 1,\n",
       "       2, 1, 2, 2, 9, 7, 2, 9, 6, 0, 5, 8, 7, 5, 1, 2, 9, 4, 9, 1, 7, 7,\n",
       "       4, 1, 5, 1, 5, 5, 2, 5, 8, 0, 7, 1, 4, 7, 9, 4, 8, 9, 7, 7, 8, 2,\n",
       "       1, 9, 2, 9, 8, 4, 8, 7, 0, 6, 8, 5, 8, 9, 9, 5, 9, 9, 5, 7, 9, 6,\n",
       "       2, 8, 6, 9, 6, 1, 5, 8, 5, 9, 9, 1, 9, 9, 6, 8, 8, 4, 1, 7, 6, 7,\n",
       "       6, 5, 6, 0, 8, 8, 9, 8, 6, 8, 0, 4, 2, 6, 8, 8, 6, 7, 4, 9, 6, 9,\n",
       "       0, 8, 9, 9, 0, 7, 7, 9, 7, 8, 0, 7, 8, 9, 6, 4, 5, 0, 8, 4, 6, 4,\n",
       "       9, 8, 0, 9, 5, 9, 2, 1, 4, 7, 1, 6, 1, 9, 2, 4, 9, 8, 7, 6, 2, 9,\n",
       "       9, 8, 6, 9, 9, 6, 9, 2, 2, 0, 7, 6, 1, 8, 9, 7, 2, 7, 8, 5, 5, 7,\n",
       "       5, 2, 8, 7, 2, 7, 9, 5, 7, 0, 9, 6, 6, 5, 9, 7, 4, 8, 8, 0, 9, 6,\n",
       "       4, 6, 9, 2, 6, 1, 8, 8, 1, 6, 7, 5, 2, 1, 5, 9, 2, 1, 6, 9, 4, 5,\n",
       "       4, 9, 4, 6, 2, 9, 0, 8, 7, 2, 0, 9, 6, 0, 4, 2, 0, 7, 5, 8, 5, 4,\n",
       "       8, 2, 8, 4, 9, 7, 2, 6, 7, 1, 5, 1, 0, 8])"
      ]
     },
     "execution_count": 22,
     "metadata": {},
     "output_type": "execute_result"
    }
   ],
   "source": [
    "predicted_labels"
   ]
  },
  {
   "cell_type": "code",
   "execution_count": 21,
   "metadata": {},
   "outputs": [
    {
     "data": {
      "text/plain": [
       "array([4, 7, 6, 8, 9, 4, 3, 1, 0, 1, 8, 6, 7, 7, 1, 0, 7, 6, 2, 1, 9, 6,\n",
       "       7, 9, 0, 0, 5, 1, 6, 3, 0, 2, 3, 4, 1, 9, 2, 6, 9, 1, 8, 3, 5, 1,\n",
       "       2, 8, 2, 2, 9, 7, 2, 3, 6, 0, 5, 3, 7, 5, 1, 2, 9, 9, 3, 1, 7, 7,\n",
       "       4, 8, 5, 8, 5, 5, 2, 5, 9, 0, 7, 1, 4, 7, 3, 4, 8, 9, 7, 9, 8, 2,\n",
       "       6, 5, 2, 5, 8, 4, 8, 7, 0, 6, 1, 5, 9, 9, 9, 5, 9, 9, 5, 7, 5, 6,\n",
       "       2, 8, 6, 9, 6, 1, 5, 1, 5, 9, 9, 1, 5, 3, 6, 1, 8, 9, 8, 7, 6, 7,\n",
       "       6, 5, 6, 0, 8, 8, 9, 8, 6, 1, 0, 4, 1, 6, 3, 8, 6, 7, 4, 5, 6, 3,\n",
       "       0, 3, 3, 3, 0, 7, 7, 5, 7, 8, 0, 7, 8, 9, 6, 4, 5, 0, 1, 4, 6, 4,\n",
       "       3, 3, 0, 9, 5, 9, 2, 1, 4, 2, 1, 6, 8, 9, 2, 4, 9, 3, 7, 6, 2, 3,\n",
       "       3, 1, 6, 9, 3, 6, 3, 2, 2, 0, 7, 6, 1, 1, 9, 7, 2, 7, 8, 5, 5, 7,\n",
       "       5, 2, 3, 7, 2, 7, 5, 5, 7, 0, 9, 1, 6, 5, 9, 7, 4, 3, 8, 0, 3, 6,\n",
       "       4, 6, 3, 2, 6, 8, 8, 8, 4, 6, 7, 5, 2, 4, 5, 3, 2, 4, 6, 9, 4, 5,\n",
       "       4, 3, 4, 6, 2, 9, 0, 1, 7, 2, 0, 9, 6, 0, 4, 2, 0, 7, 9, 8, 5, 4,\n",
       "       8, 2, 8, 4, 3, 7, 2, 6, 9, 1, 5, 1, 0, 8])"
      ]
     },
     "execution_count": 21,
     "metadata": {},
     "output_type": "execute_result"
    }
   ],
   "source": [
    "true_labels"
   ]
  },
  {
   "cell_type": "code",
   "execution_count": 23,
   "metadata": {},
   "outputs": [],
   "source": [
    "cm = confusion_matrix(true_labels, predicted_labels, labels=lp_model.classes_)"
   ]
  },
  {
   "cell_type": "code",
   "execution_count": 24,
   "metadata": {},
   "outputs": [
    {
     "data": {
      "text/plain": [
       "array([[23,  0,  0,  0,  0,  0,  0,  0,  0],\n",
       "       [ 0, 14,  2,  0,  0,  1,  0, 11,  0],\n",
       "       [ 0,  0, 27,  0,  0,  0,  2,  0,  0],\n",
       "       [ 0,  3,  0, 22,  0,  0,  0,  0,  0],\n",
       "       [ 0,  0,  0,  0, 25,  0,  0,  0,  8],\n",
       "       [ 0,  1,  0,  0,  0, 35,  0,  0,  0],\n",
       "       [ 0,  0,  0,  0,  0,  0, 34,  0,  0],\n",
       "       [ 0,  6,  0,  0,  0,  0,  0, 23,  0],\n",
       "       [ 0,  0,  0,  2,  1,  0,  2,  2, 28]], dtype=int64)"
      ]
     },
     "execution_count": 24,
     "metadata": {},
     "output_type": "execute_result"
    }
   ],
   "source": [
    "cm"
   ]
  },
  {
   "cell_type": "code",
   "execution_count": 25,
   "metadata": {},
   "outputs": [
    {
     "name": "stdout",
     "output_type": "stream",
     "text": [
      "Label Spreading model: 30 labeled & 300 unlabeled points (330 total)\n"
     ]
    }
   ],
   "source": [
    "print(\"Label Spreading model: %d labeled & %d unlabeled points (%d total)\" %\n",
    "      (n_labeled_points, n_total_samples - n_labeled_points, n_total_samples))"
   ]
  },
  {
   "cell_type": "code",
   "execution_count": 26,
   "metadata": {},
   "outputs": [
    {
     "name": "stdout",
     "output_type": "stream",
     "text": [
      "              precision    recall  f1-score   support\n",
      "\n",
      "           0       1.00      1.00      1.00        23\n",
      "           1       0.58      0.50      0.54        28\n",
      "           2       0.93      0.93      0.93        29\n",
      "           3       0.00      0.00      0.00        28\n",
      "           4       0.92      0.88      0.90        25\n",
      "           5       0.96      0.76      0.85        33\n",
      "           6       0.97      0.97      0.97        36\n",
      "           7       0.89      1.00      0.94        34\n",
      "           8       0.51      0.79      0.62        29\n",
      "           9       0.51      0.80      0.62        35\n",
      "\n",
      "   micro avg       0.77      0.77      0.77       300\n",
      "   macro avg       0.73      0.76      0.74       300\n",
      "weighted avg       0.73      0.77      0.74       300\n",
      "\n",
      "Confusion matrix\n",
      "[[23  0  0  0  0  0  0  0  0]\n",
      " [ 0 14  2  0  0  1  0 11  0]\n",
      " [ 0  0 27  0  0  0  2  0  0]\n",
      " [ 0  3  0 22  0  0  0  0  0]\n",
      " [ 0  0  0  0 25  0  0  0  8]\n",
      " [ 0  1  0  0  0 35  0  0  0]\n",
      " [ 0  0  0  0  0  0 34  0  0]\n",
      " [ 0  6  0  0  0  0  0 23  0]\n",
      " [ 0  0  0  2  1  0  2  2 28]]\n"
     ]
    },
    {
     "name": "stderr",
     "output_type": "stream",
     "text": [
      "c:\\users\\1015203\\hackathon_sarvanaam\\allennlp\\allennlp\\lib\\site-packages\\sklearn\\metrics\\classification.py:1143: UndefinedMetricWarning: Precision and F-score are ill-defined and being set to 0.0 in labels with no predicted samples.\n",
      "  'precision', 'predicted', average, warn_for)\n"
     ]
    }
   ],
   "source": [
    "print(classification_report(true_labels, predicted_labels))\n",
    "\n",
    "print(\"Confusion matrix\")\n",
    "print(cm)"
   ]
  },
  {
   "cell_type": "code",
   "execution_count": 27,
   "metadata": {},
   "outputs": [],
   "source": [
    "# #############################################################################\n",
    "# Calculate uncertainty values for each transduced distribution\n",
    "pred_entropies = stats.distributions.entropy(lp_model.label_distributions_.T)"
   ]
  },
  {
   "cell_type": "code",
   "execution_count": 28,
   "metadata": {},
   "outputs": [
    {
     "data": {
      "text/plain": [
       "array([1.13648638e-084, 1.65645659e-090, 1.58324756e-069, 9.15465886e-081,\n",
       "       1.53359970e-064, 3.53548772e-079, 1.19974779e-052, 1.78538084e-054,\n",
       "       2.88692820e-043, 1.56621715e-116, 8.13404400e-074, 9.90554054e-069,\n",
       "       6.72229904e-059, 6.00076483e-089, 1.15682718e-052, 5.31787261e-074,\n",
       "       1.89565740e-091, 1.53166096e-081, 1.96890063e-103, 2.02912609e-058,\n",
       "       1.85544143e-054, 6.52174268e-103, 1.38868556e-042, 2.07961485e-081,\n",
       "       1.72865708e-081, 1.21249749e-062, 2.94469339e-079, 2.04692549e-042,\n",
       "       1.56311610e-062, 4.70215303e-045, 2.36910463e-057, 3.72458448e-049,\n",
       "       4.86133355e-062, 5.83031402e-015, 5.93564132e-035, 4.23991940e-043,\n",
       "       1.45260975e-012, 3.10529272e-012, 1.65419392e-044, 1.64249196e-073,\n",
       "       6.29131778e-022, 2.22698684e-055, 5.05978649e-039, 1.64292866e-051,\n",
       "       4.27779140e-066, 5.13357027e-028, 1.48491392e-054, 1.69079432e-007,\n",
       "       7.62099489e-051, 3.31254233e-068, 1.50207515e-040, 5.31641887e-055,\n",
       "       7.35540150e-041, 3.75609560e-005, 1.03105586e-026, 7.65385241e-068,\n",
       "       8.12136302e-005, 3.06081589e-024, 1.15895314e-069, 4.24196508e-002,\n",
       "       2.62734274e-060, 8.53730318e-018, 2.00577953e-020, 9.55762200e-068,\n",
       "       6.69487884e-001, 2.35565385e-042, 7.09749481e-004, 6.29146633e-014,\n",
       "       4.83176932e-006, 2.34988896e-018, 5.78679925e-058, 8.39740407e-019,\n",
       "       6.74544963e-115, 2.73662656e-090, 4.73230795e-052, 3.64509439e-029,\n",
       "       8.01003969e-044, 5.01740981e-067, 1.36776276e-040, 4.88213043e-052,\n",
       "       4.49813542e-052, 1.00099740e-009, 6.15814952e-051, 6.92441549e-030,\n",
       "       3.27555192e-014, 1.38435021e-012, 2.74262997e-035, 4.54965489e-098,\n",
       "       3.62297784e-067, 7.91940161e-044, 1.88968267e-039, 3.26804569e-010,\n",
       "       1.78115597e-001, 4.50122688e-090, 1.63388213e-080, 3.05251498e-053,\n",
       "       1.09533231e-025, 4.20981985e-002, 1.15042307e-062, 7.93071945e-006,\n",
       "       1.45396331e-112, 1.10896363e-006, 1.37291875e-031, 3.34390680e-055,\n",
       "       2.34216938e-007, 3.50875031e-046, 7.29484242e-090, 1.03957996e-021,\n",
       "       3.54476674e-082, 7.25313830e-081, 3.05880621e-001, 1.20914278e-058,\n",
       "       2.76797935e-023, 2.38558660e-042, 1.31019763e-042, 4.51288806e-008,\n",
       "       2.03059248e-066, 3.26310160e-066, 3.06194167e-007, 1.26559632e-020,\n",
       "       4.83013506e-027, 4.96798718e-004, 2.21482818e-028, 8.80556993e-068,\n",
       "       2.06830089e-017, 3.71306072e-019, 3.78661989e-046, 6.61123742e-068,\n",
       "       1.14368151e-009, 7.81251844e-066, 6.18485078e-012, 1.07313394e-028,\n",
       "       7.20977934e-029, 1.43754904e-062, 4.70215900e-045, 1.50356039e-015,\n",
       "       2.53489190e-075, 1.73906368e-081, 3.08432779e-010, 1.04967468e-080,\n",
       "       4.75351673e-034, 2.17442702e-028, 4.95589229e-058, 1.54946785e-026,\n",
       "       4.57201160e-052, 6.09534662e-059, 1.18066127e-096, 1.61094921e-014,\n",
       "       2.34922708e-103, 1.49931269e-040, 4.56091532e-053, 7.35197902e-095,\n",
       "       3.98079835e-001, 1.14589815e-001, 1.51988142e-068, 2.46353840e-018,\n",
       "       1.71504108e-025, 1.39684172e-006, 5.86959440e-006, 1.52096036e-044,\n",
       "       2.83113970e-052, 1.47798677e-080, 8.68204904e-066, 3.22578225e-040,\n",
       "       2.80999892e-055, 5.82397964e-035, 8.98973464e-052, 5.98986012e-043,\n",
       "       1.43187762e-040, 2.33223882e-028, 4.12319385e-038, 1.34419280e-001,\n",
       "       2.13006930e-072, 1.40695560e-031, 1.40800551e-001, 7.93174545e-009,\n",
       "       1.43534050e-012, 2.38572681e-028, 4.98430071e-049, 4.80616247e-024,\n",
       "       1.41774352e-066, 2.02263656e-028, 1.62598114e-081, 5.07544314e-020,\n",
       "       4.69933866e-021, 4.60595655e-004, 7.58282136e-011, 3.41822290e-006,\n",
       "       9.64919386e-060, 7.25867596e-014, 4.61562995e-024, 1.00038396e-020,\n",
       "       2.82348343e-073, 2.63507484e-046, 4.62776217e-053, 9.23605016e-075,\n",
       "       9.44768021e-052, 1.50204573e-040, 1.08269243e-068, 1.58365169e-060,\n",
       "       6.28264388e-044, 9.52848699e-038, 2.00379305e-008, 7.31561241e-036,\n",
       "       2.71306386e-056, 1.70761814e-001, 6.26169241e-002, 7.52648110e-022,\n",
       "       2.30877331e-035, 8.28765613e-047, 2.97366486e-029, 4.33561229e-035,\n",
       "       2.21270180e-068, 2.83433639e-069, 9.83740710e-050, 7.17167186e-004,\n",
       "       8.28793775e-107, 3.84439805e-018, 7.89579769e-021, 5.43217693e-035,\n",
       "       2.03268490e-068, 8.75993828e-026, 3.36289446e-005, 1.90445846e-010,\n",
       "       1.54238578e-080, 3.59106184e-049, 3.25526626e-003, 3.36775001e-008,\n",
       "       1.51073818e-001, 2.84886734e-012, 6.57977651e-089, 1.50207515e-040,\n",
       "       8.87422815e-015, 8.42606364e-067, 4.12770166e-020, 1.32776938e-063,\n",
       "       1.40167295e-084, 3.93033583e-039, 8.74524135e-041, 4.92598923e-082,\n",
       "       1.64120148e-063, 2.90723231e-013, 1.50128130e-040, 1.84931263e-069,\n",
       "       2.03046748e-068, 7.33801048e-041, 1.85270869e-020, 9.49399237e-057,\n",
       "       9.51610519e-057, 1.11130927e-033, 7.05246141e-026, 5.03312625e-027,\n",
       "       4.82904025e-003, 1.52907977e-044, 8.37619105e-067, 1.47345211e-020,\n",
       "       5.94182116e-020, 1.24704142e-107, 1.52563350e-015, 2.00723611e-031,\n",
       "       4.33725128e-030, 3.04220035e-015, 3.82340518e-077, 6.68041751e-039,\n",
       "       4.08916917e-005, 1.52911196e-044, 9.97464960e-050, 3.06034647e-009,\n",
       "       2.25282692e-037, 4.82274813e-021, 2.28829953e-003, 1.85657216e-052,\n",
       "       1.15939668e-050, 1.68164000e-005, 8.01044795e-013, 4.79334574e-067,\n",
       "       3.25477298e-056, 6.09504247e-029, 6.22140804e-057, 1.26346119e-068,\n",
       "       3.65264972e-004, 4.25017804e-049, 2.42805728e-035, 2.38622414e-075,\n",
       "       4.73166036e-052, 1.20766073e-032, 8.10813597e-077, 3.97315239e-002,\n",
       "       2.15421140e-054, 2.18066760e-005, 3.79001321e-050, 2.51019531e-028,\n",
       "       1.06795487e-025, 6.76789480e-115, 2.65615790e-037, 1.82535154e-001,\n",
       "       2.95179375e-065, 1.74993289e-053, 4.54164441e-052, 7.71485966e-014,\n",
       "       7.44041952e-042, 1.86959850e-023, 5.92925028e-103, 9.26370803e-056,\n",
       "       3.17338464e-069, 1.81676467e-036, 8.16632462e-084, 2.63503129e-037,\n",
       "       2.83639251e-057, 4.75353185e-034, 2.91236474e-052, 1.61025648e-044,\n",
       "       1.86177023e-004, 1.95250875e-050, 3.34450259e-055, 2.02435413e-019,\n",
       "       5.42266289e-057, 2.10663369e-057, 2.34706882e-028, 1.25903269e-049,\n",
       "       2.22890043e-008, 2.26710023e-016, 9.48155035e-084, 4.64894688e-054,\n",
       "       9.41082949e-007, 6.24452841e-059, 4.56125568e-044, 8.33638772e-022,\n",
       "       4.69325075e-053, 2.40818553e-059])"
      ]
     },
     "execution_count": 28,
     "metadata": {},
     "output_type": "execute_result"
    }
   ],
   "source": [
    "pred_entropies"
   ]
  },
  {
   "cell_type": "code",
   "execution_count": 29,
   "metadata": {},
   "outputs": [],
   "source": [
    "# #############################################################################\n",
    "# Pick the top 10 most uncertain labels\n",
    "uncertainty_index = np.argsort(pred_entropies)[-10:]"
   ]
  },
  {
   "cell_type": "code",
   "execution_count": 30,
   "metadata": {},
   "outputs": [
    {
     "data": {
      "text/plain": [
       "array([153, 171, 174, 228, 205,  92, 295, 110, 152,  64], dtype=int64)"
      ]
     },
     "execution_count": 30,
     "metadata": {},
     "output_type": "execute_result"
    }
   ],
   "source": [
    "uncertainty_index"
   ]
  },
  {
   "cell_type": "code",
   "execution_count": 31,
   "metadata": {},
   "outputs": [
    {
     "data": {
      "image/png": "[encoded data removed]",
      "text/plain": [
       "<Figure size 504x360 with 10 Axes>"
      ]
     },
     "metadata": {},
     "output_type": "display_data"
    }
   ],
   "source": [
    "# #############################################################################\n",
    "# Plot\n",
    "f = plt.figure(figsize=(7, 5))\n",
    "for index, image_index in enumerate(uncertainty_index):\n",
    "    image = images[image_index]\n",
    "\n",
    "    sub = f.add_subplot(2, 5, index + 1)\n",
    "    sub.imshow(image, cmap=plt.cm.gray_r)\n",
    "    plt.xticks([])\n",
    "    plt.yticks([])\n",
    "    sub.set_title('predict: %i\\ntrue: %i' % (\n",
    "        lp_model.transduction_[image_index], y[image_index]))\n",
    "\n",
    "f.suptitle('Learning with small amount of labeled data')\n",
    "plt.show()"
   ]
  },
  {
   "cell_type": "code",
   "execution_count": null,
   "metadata": {},
   "outputs": [],
   "source": []
  }
 ],
 "metadata": {
  "kernelspec": {
   "display_name": "Python 3",
   "language": "python",
   "name": "python3"
  },
  "language_info": {
   "codemirror_mode": {
    "name": "ipython",
    "version": 3
   },
   "file_extension": ".py",
   "mimetype": "text/x-python",
   "name": "python",
   "nbconvert_exporter": "python",
   "pygments_lexer": "ipython3",
   "version": "3.6.4"
  }
 },
 "nbformat": 4,
 "nbformat_minor": 2
}
